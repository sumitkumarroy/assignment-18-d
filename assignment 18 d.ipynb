{
 "cells": [
  {
   "cell_type": "code",
   "execution_count": 2,
   "id": "95994783",
   "metadata": {},
   "outputs": [
    {
     "data": {
      "text/plain": [
       "(1.9442622950819677, 0.7584478225464656)"
      ]
     },
     "execution_count": 2,
     "metadata": {},
     "output_type": "execute_result"
    }
   ],
   "source": [
    "import numpy as np\n",
    "import scipy.stats as stats\n",
    "group_A = np.array([80, 85, 90, 92, 87, 83])\n",
    "group_B = np.array([75, 78, 82, 79, 81, 84])\n",
    "def calculate_f_value(data1, data2):\n",
    "    \n",
    "    var1 = np.var(data1, ddof=1)  # Sample variance of data1\n",
    "    var2 = np.var(data2, ddof=1)  # Sample variance of data2\n",
    "    \n",
    "    f_value = var1 / var2 if var1 >= var2 else var2 / var1\n",
    "    df1 = len(data1) - 1\n",
    "    df2 = len(data2) - 1\n",
    "    \n",
    "    p_value = stats.f.cdf(f_value, df1, df2)  # Cumulative distribution function for F-distribution\n",
    "    \n",
    "    return f_value, p_value\n",
    "calculate_f_value(group_A,group_B)"
   ]
  },
  {
   "cell_type": "code",
   "execution_count": 3,
   "id": "204c44a8",
   "metadata": {},
   "outputs": [
    {
     "data": {
      "text/plain": [
       "5.987565126046928"
      ]
     },
     "execution_count": 3,
     "metadata": {},
     "output_type": "execute_result"
    }
   ],
   "source": [
    "def critical_f_value(alpha, dfn, dfd):\n",
    "    \n",
    "    critical_f = stats.f.ppf(1 - alpha/2, dfn, dfd)\n",
    "    return critical_f\n",
    "critical_f_value(0.05,5,6)"
   ]
  },
  {
   "cell_type": "code",
   "execution_count": 5,
   "id": "1daf6a36",
   "metadata": {},
   "outputs": [
    {
     "name": "stdout",
     "output_type": "stream",
     "text": [
      "F-value: 1.5, Degrees of Freedom: (11, 11), p-value: 0.7438051006321003\n"
     ]
    }
   ],
   "source": [
    "def f_test_normal_distributions(mean1, var1, n1, mean2, var2, n2):\n",
    "    \n",
    "    f_value = var1 / var2 if var1 >= var2 else var2 / var1\n",
    "    \n",
    "    df1 = n1 - 1\n",
    "    df2 = n2 - 1\n",
    "    p_value = stats.f.cdf(f_value, df1, df2)\n",
    "    \n",
    "    return f_value, df1, df2, p_value\n",
    "mean1, var1, n1 = 0, 10, 12\n",
    "mean2, var2, n2 = 0, 15, 12\n",
    "f_value, df1, df2, p_value = f_test_normal_distributions(mean1, var1, n1, mean2, var2, n2)\n",
    "print(f\"F-value: {f_value}, Degrees of Freedom: ({df1}, {df2}), p-value: {p_value}\")\n"
   ]
  },
  {
   "cell_type": "code",
   "execution_count": 7,
   "id": "70e40da2",
   "metadata": {},
   "outputs": [
    {
     "name": "stdout",
     "output_type": "stream",
     "text": [
      "F-value: 1.5000, p-value: 0.7438\n",
      "Accept null hypothesis: Variances are not significantly different.\n"
     ]
    }
   ],
   "source": [
    "import scipy.stats as stats\n",
    "\n",
    "def f_test_variances(var1, var2, n1, n2, alpha):\n",
    "    \n",
    "    f_value = var1 / var2 if var1 >= var2 else var2 / var1\n",
    "    \n",
    "    df1 = n1 - 1\n",
    "    df2 = n2 - 1\n",
    "    p_value = stats.f.cdf(f_value, df1, df2)\n",
    "    \n",
    "    return f_value, p_value\n",
    "\n",
    "# Given data\n",
    "var1 = 10\n",
    "var2 = 15\n",
    "n1 = 12\n",
    "n2 = 12\n",
    "alpha = 0.05\n",
    "\n",
    "f_value, p_value = f_test_variances(var1, var2, n1, n2, alpha)\n",
    "print(f\"F-value: {f_value:.4f}, p-value: {p_value:.4f}\")\n",
    "\n",
    "if p_value < alpha:\n",
    "    print(\"Reject null hypothesis: Variances are significantly different.\")\n",
    "else:\n",
    "    print(\"Accept null hypothesis: Variances are not significantly different.\")\n"
   ]
  },
  {
   "cell_type": "code",
   "execution_count": 8,
   "id": "a44e42c1",
   "metadata": {},
   "outputs": [
    {
     "name": "stdout",
     "output_type": "stream",
     "text": [
      "F-value: 1.2000, p-value: 0.6706\n",
      "Accept null hypothesis: Sample variance supports the claim.\n"
     ]
    }
   ],
   "source": [
    "def f_test_claim(var1, var2, n, alpha):\n",
    "    \n",
    "    f_value = var1 / var2 if var1 >= var2 else var2 / var1\n",
    "    \n",
    "    df1 = n - 1\n",
    "    df2 = n - 1\n",
    "    \n",
    "    p_value = stats.f.cdf(f_value, df1, df2)\n",
    "    \n",
    "    return f_value, p_value\n",
    "\n",
    "# Given data\n",
    "var1 = 0.005\n",
    "var2 = 0.006\n",
    "n = 25\n",
    "alpha = 0.01\n",
    "\n",
    "# Perform F-test\n",
    "f_value, p_value = f_test_claim(var1, var2, n, alpha)\n",
    "\n",
    "# Output results\n",
    "print(f\"F-value: {f_value:.4f}, p-value: {p_value:.4f}\")\n",
    "\n",
    "# Interpret the results\n",
    "if p_value < alpha:\n",
    "    print(\"Reject null hypothesis: Sample variance contradicts the claim.\")\n",
    "else:\n",
    "    print(\"Accept null hypothesis: Sample variance supports the claim.\")\n"
   ]
  },
  {
   "cell_type": "code",
   "execution_count": 9,
   "id": "dcd15735",
   "metadata": {},
   "outputs": [
    {
     "name": "stdout",
     "output_type": "stream",
     "text": [
      "F-value: 1.2500, p-value: 0.6584\n",
      "Accept null hypothesis: Variances are not significantly different.\n"
     ]
    }
   ],
   "source": [
    "def f_test_unknown_variances(var1, var2, n1, n2, alpha):\n",
    "    \n",
    "    f_value = var1 / var2 if var1 >= var2 else var2 / var1\n",
    "    df1 = n1 - 1\n",
    "    df2 = n2 - 1\n",
    "    \n",
    "    p_value = stats.f.cdf(f_value, df1, df2)\n",
    "    \n",
    "    return f_value, p_value\n",
    "\n",
    "var1 = 25\n",
    "var2 = 20\n",
    "n1 = 10\n",
    "n2 = 15\n",
    "alpha = 0.10\n",
    "f_value, p_value = f_test_unknown_variances(var1, var2, n1, n2, alpha)\n",
    "\n",
    "print(f\"F-value: {f_value:.4f}, p-value: {p_value:.4f}\")\n",
    "\n",
    "if p_value < alpha:\n",
    "    print(\"Reject null hypothesis: Variances are significantly different.\")\n",
    "else:\n",
    "    print(\"Accept null hypothesis: Variances are not significantly different.\")\n"
   ]
  },
  {
   "cell_type": "code",
   "execution_count": 11,
   "id": "224ab881",
   "metadata": {},
   "outputs": [
    {
     "name": "stdout",
     "output_type": "stream",
     "text": [
      "F-value: 1.4552, p-value: 0.6513\n",
      "Accept null hypothesis: Variances in waiting times are not significantly different.\n"
     ]
    }
   ],
   "source": [
    "import numpy as np\n",
    "\n",
    "# Restaurant waiting times\n",
    "restaurant_A = np.array([24, 25, 28, 23, 22, 20, 27])\n",
    "restaurant_B = np.array([31, 33, 35, 30, 32, 36])\n",
    "\n",
    "def f_test_restaurant_waiting_times(wait_times_A, wait_times_B, alpha):\n",
    "    \n",
    "    var_A = np.var(wait_times_A, ddof=1)\n",
    "    var_B = np.var(wait_times_B, ddof=1)\n",
    "    \n",
    "    f_value = var_A / var_B if var_A >= var_B else var_B / var_A\n",
    "    df1 = len(wait_times_A) - 1\n",
    "    df2 = len(wait_times_B) - 1\n",
    "    \n",
    "    p_value = stats.f.cdf(f_value, df1, df2)\n",
    "    \n",
    "    return f_value, p_value\n",
    "\n",
    "f_value, p_value = f_test_restaurant_waiting_times(restaurant_A, restaurant_B, alpha)\n",
    "\n",
    "print(f\"F-value: {f_value:.4f}, p-value: {p_value:.4f}\")\n",
    "if p_value < alpha:\n",
    "    print(\"Reject null hypothesis: Variances in waiting times are significantly different.\")\n",
    "else:\n",
    "    print(\"Accept null hypothesis: Variances in waiting times are not significantly different.\")\n"
   ]
  },
  {
   "cell_type": "code",
   "execution_count": 12,
   "id": "d45d02f5",
   "metadata": {},
   "outputs": [
    {
     "name": "stdout",
     "output_type": "stream",
     "text": [
      "F-value: 1.9443, p-value: 0.7584\n",
      "Accept null hypothesis: Variances in test scores are not significantly different.\n"
     ]
    }
   ],
   "source": [
    "# Test scores for groups A and B\n",
    "group_A = np.array([80, 85, 90, 92, 87, 83])\n",
    "group_B = np.array([75, 78, 82, 79, 81, 84])\n",
    "\n",
    "def f_test_student_test_scores(scores_A, scores_B, alpha):\n",
    "    \n",
    "    var_A = np.var(scores_A, ddof=1)\n",
    "    var_B = np.var(scores_B, ddof=1)\n",
    "    \n",
    "    f_value = var_A / var_B if var_A >= var_B else var_B / var_A\n",
    "    \n",
    "    df1 = len(scores_A) - 1\n",
    "    df2 = len(scores_B) - 1\n",
    "    \n",
    "    p_value = stats.f.cdf(f_value, df1, df2)\n",
    "    \n",
    "    return f_value, p_value\n",
    "\n",
    "f_value, p_value = f_test_student_test_scores(group_A, group_B, alpha)\n",
    "\n",
    "print(f\"F-value: {f_value:.4f}, p-value: {p_value:.4f}\")\n",
    "if p_value < alpha:\n",
    "    print(\"Reject null hypothesis: Variances in test scores are significantly different.\")\n",
    "else:\n",
    "    print(\"Accept null hypothesis: Variances in test scores are not significantly different.\")\n"
   ]
  },
  {
   "cell_type": "code",
   "execution_count": null,
   "id": "3c195368",
   "metadata": {},
   "outputs": [],
   "source": []
  }
 ],
 "metadata": {
  "kernelspec": {
   "display_name": "Python 3 (ipykernel)",
   "language": "python",
   "name": "python3"
  },
  "language_info": {
   "codemirror_mode": {
    "name": "ipython",
    "version": 3
   },
   "file_extension": ".py",
   "mimetype": "text/x-python",
   "name": "python",
   "nbconvert_exporter": "python",
   "pygments_lexer": "ipython3",
   "version": "3.12.4"
  }
 },
 "nbformat": 4,
 "nbformat_minor": 5
}
